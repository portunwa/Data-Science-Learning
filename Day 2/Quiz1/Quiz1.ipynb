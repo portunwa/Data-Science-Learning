{
 "cells": [
  {
   "cell_type": "code",
   "execution_count": 14,
   "metadata": {},
   "outputs": [
    {
     "name": "stdout",
     "output_type": "stream",
     "text": [
      "กรอกตัวเลข : 0\n",
      "เลขศูนย์\n"
     ]
    }
   ],
   "source": [
    "num = int(input('กรอกตัวเลข : '))\n",
    "if num%2 == 1:\n",
    "    print(\"เลขคี่\")\n",
    "elif num / 2 == 0:\n",
    "    print(\"เลขศูนย์\")\n",
    "else:\n",
    "    print(\"เลขคู่\")"
   ]
  }
 ],
 "metadata": {
  "kernelspec": {
   "display_name": "Python 3",
   "language": "python",
   "name": "python3"
  },
  "language_info": {
   "codemirror_mode": {
    "name": "ipython",
    "version": 3
   },
   "file_extension": ".py",
   "mimetype": "text/x-python",
   "name": "python",
   "nbconvert_exporter": "python",
   "pygments_lexer": "ipython3",
   "version": "3.7.4"
  }
 },
 "nbformat": 4,
 "nbformat_minor": 2
}
