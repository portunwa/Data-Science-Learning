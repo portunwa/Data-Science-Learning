{
 "cells": [
  {
   "cell_type": "code",
   "execution_count": 4,
   "metadata": {},
   "outputs": [
    {
     "name": "stdout",
     "output_type": "stream",
     "text": [
      "ค่าอาหาร 1: 4000\n",
      "ค่าอาหาร 2: 1\n",
      "กรอกค่าอาหารใหม่\n",
      "ค่าอาหาร 2: 4000\n",
      "ค่าอาหาร 3: 4000\n",
      "ค่าอาหาร 4: 4000\n",
      "มีบัตรเครดิตหรือไม่ (มีเขียน True ไม่มีปล่อยว่าง) : True\n",
      "ยอดเงินสุทธิของมื้อที่ 4 =  2600.0\n"
     ]
    }
   ],
   "source": [
    "while True:\n",
    "    a = int(input(\"ค่าอาหาร 1: \"))\n",
    "    if 1000 <= a <= 5000:\n",
    "        break\n",
    "    else:\n",
    "        print(\"กรอกค่าอาหารใหม่\")\n",
    "        \n",
    "while True:\n",
    "    b = int(input(\"ค่าอาหาร 2: \"))\n",
    "    if 1000 <= b <= 5000:\n",
    "        break\n",
    "    else:\n",
    "        print(\"กรอกค่าอาหารใหม่\")\n",
    "        \n",
    "while True:\n",
    "    c = int(input(\"ค่าอาหาร 3: \"))\n",
    "    if 1000 <= c <= 5000:\n",
    "        break\n",
    "    else:\n",
    "        print(\"กรอกค่าอาหารใหม่\")\n",
    "        \n",
    "while True:\n",
    "    d = int(input(\"ค่าอาหาร 4: \"))\n",
    "    if 1000 <= d <= 5000:\n",
    "        break\n",
    "    else:\n",
    "        print(\"กรอกค่าอาหารใหม่\")\n",
    "        \n",
    "cre = bool(input(\"มีบัตรเครดิตหรือไม่ (มีเขียน True ไม่มีปล่อยว่าง) : \"))       \n",
    "cost = 0\n",
    "cost = a+b+c  \n",
    "cost1 = d\n",
    "if 4000 < cost < 9000:\n",
    "    print(\"ยอดเงินสุทธิของมื้อที่ 4 = \", cost1 * 0.75)\n",
    "elif cost >= 9000 and cre == False:\n",
    "    print(\"ยอดเงินสุทธิของมื้อที่ 4 = \", cost1 * 0.70)\n",
    "elif cost >= 9000 and cre == True:\n",
    "    print(\"ยอดเงินสุทธิของมื้อที่ 4 = \", cost1 * 0.65)\n",
    "else:\n",
    "    print(\"ยอดเงินสุทธิของมื้อที่ 4 = \", cost1)"
   ]
  }
 ],
 "metadata": {
  "kernelspec": {
   "display_name": "Python 3",
   "language": "python",
   "name": "python3"
  },
  "language_info": {
   "codemirror_mode": {
    "name": "ipython",
    "version": 3
   },
   "file_extension": ".py",
   "mimetype": "text/x-python",
   "name": "python",
   "nbconvert_exporter": "python",
   "pygments_lexer": "ipython3",
   "version": "3.7.4"
  }
 },
 "nbformat": 4,
 "nbformat_minor": 2
}
