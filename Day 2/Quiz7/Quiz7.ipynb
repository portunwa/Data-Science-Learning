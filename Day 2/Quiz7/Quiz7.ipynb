{
 "cells": [
  {
   "cell_type": "code",
   "execution_count": 3,
   "metadata": {},
   "outputs": [
    {
     "name": "stdout",
     "output_type": "stream",
     "text": [
      "ค่าอาหาร 1: 3000\n",
      "ค่าอาหาร 2: 3000\n",
      "ค่าอาหาร 3: 10\n",
      "กรอกค่าอาหารใหม่\n",
      "ค่าอาหาร 3: 2000\n",
      "ยอดเงินสุทธิ =  6800.0\n"
     ]
    }
   ],
   "source": [
    "while True:\n",
    "    a = int(input(\"ค่าอาหาร 1: \"))\n",
    "    if 1000 <= a <= 5000:\n",
    "        break\n",
    "    else:\n",
    "        print(\"กรอกค่าอาหารใหม่\")\n",
    "        \n",
    "while True:\n",
    "    b = int(input(\"ค่าอาหาร 2: \"))\n",
    "    if 1000 <= b <= 5000:\n",
    "        break\n",
    "    else:\n",
    "        print(\"กรอกค่าอาหารใหม่\")\n",
    "        \n",
    "while True:\n",
    "    c = int(input(\"ค่าอาหาร 3: \"))\n",
    "    if 1000 <= c <= 5000:\n",
    "        break\n",
    "    else:\n",
    "        print(\"กรอกค่าอาหารใหม่\")\n",
    "        \n",
    "cost = 0\n",
    "cost = a+b+c  \n",
    "if 6000 < cost < 12000:\n",
    "    print(\"ยอดเงินสุทธิ = \", cost * 0.85)\n",
    "elif cost >= 12000:\n",
    "    print(\"ยอดเงินสุทธิ = \", cost * 0.75)\n",
    "else:\n",
    "    print(\"ยอดเงินสุทธิ = \", cost)"
   ]
  },
  {
   "cell_type": "code",
   "execution_count": null,
   "metadata": {},
   "outputs": [],
   "source": []
  }
 ],
 "metadata": {
  "kernelspec": {
   "display_name": "Python 3",
   "language": "python",
   "name": "python3"
  },
  "language_info": {
   "codemirror_mode": {
    "name": "ipython",
    "version": 3
   },
   "file_extension": ".py",
   "mimetype": "text/x-python",
   "name": "python",
   "nbconvert_exporter": "python",
   "pygments_lexer": "ipython3",
   "version": "3.7.4"
  }
 },
 "nbformat": 4,
 "nbformat_minor": 2
}
