{
 "cells": [
  {
   "cell_type": "code",
   "execution_count": 5,
   "metadata": {},
   "outputs": [
    {
     "name": "stdout",
     "output_type": "stream",
     "text": [
      "คำภาษาอังกฤษ : PyThonProGrAmMIng\n",
      "pYtHONpROgRaMmiNG\n"
     ]
    }
   ],
   "source": [
    "while True:\n",
    "    vo = input(\"คำภาษาอังกฤษ : \")\n",
    "    if len(vo) < 7:\n",
    "        print('กรุณากรอกใหม่')\n",
    "    else:\n",
    "        break\n",
    "        \n",
    "result =''\n",
    "count = 0\n",
    "for i in vo:\n",
    "    if (i.isupper()) == True:\n",
    "        result = result + (i.lower())\n",
    "    else:\n",
    "        result = result + (i.upper())\n",
    "        \n",
    "print(result)\n",
    "        \n",
    "\n",
    "    "
   ]
  }
 ],
 "metadata": {
  "kernelspec": {
   "display_name": "Python 3",
   "language": "python",
   "name": "python3"
  },
  "language_info": {
   "codemirror_mode": {
    "name": "ipython",
    "version": 3
   },
   "file_extension": ".py",
   "mimetype": "text/x-python",
   "name": "python",
   "nbconvert_exporter": "python",
   "pygments_lexer": "ipython3",
   "version": "3.7.4"
  }
 },
 "nbformat": 4,
 "nbformat_minor": 2
}
