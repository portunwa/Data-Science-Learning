{
 "cells": [
  {
   "cell_type": "code",
   "execution_count": 13,
   "metadata": {},
   "outputs": [
    {
     "name": "stdout",
     "output_type": "stream",
     "text": [
      "กรอกตัวเลข 1 : 3\n",
      "กรอกตัวเลข 2 : 4\n",
      "กรอกตัวเลข 3 : 5\n",
      "สามารถสร้างสามเหลี่ยมมุมฉากได้\n"
     ]
    }
   ],
   "source": [
    "a = int(input(\"กรอกตัวเลข 1 : \"))\n",
    "b = int(input(\"กรอกตัวเลข 2 : \"))\n",
    "c = int(input(\"กรอกตัวเลข 3 : \"))\n",
    "if a>=b and a>=c:\n",
    "    if a**2 == b**2 + c**2:\n",
    "        print(\"สามารถสร้างสามเหลี่ยมมุมฉากได้\")\n",
    "    else:\n",
    "        print(\"ไม่สามารถสร้างได้\")\n",
    "elif b>=a and b>=c:\n",
    "    if b**2 == a**2 + c**2:\n",
    "        print(\"สามารถสร้างสามเหลี่ยมมุมฉากได้\")\n",
    "    else:\n",
    "        print(\"ไม่สามารถสร้างได้\")\n",
    "elif c>=a and c>=b:\n",
    "    if c**2 == b**2 + a**2:\n",
    "        print(\"สามารถสร้างสามเหลี่ยมมุมฉากได้\")\n",
    "    else:\n",
    "        print(\"ไม่สามารถสร้างได้\")\n",
    "    "
   ]
  }
 ],
 "metadata": {
  "kernelspec": {
   "display_name": "Python 3",
   "language": "python",
   "name": "python3"
  },
  "language_info": {
   "codemirror_mode": {
    "name": "ipython",
    "version": 3
   },
   "file_extension": ".py",
   "mimetype": "text/x-python",
   "name": "python",
   "nbconvert_exporter": "python",
   "pygments_lexer": "ipython3",
   "version": "3.7.4"
  }
 },
 "nbformat": 4,
 "nbformat_minor": 2
}
