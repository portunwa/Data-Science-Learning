{
 "cells": [
  {
   "cell_type": "code",
   "execution_count": 1,
   "metadata": {},
   "outputs": [
    {
     "name": "stdout",
     "output_type": "stream",
     "text": [
      "เวลาที่จอดรถ ชม. : 123\n",
      "กรุณากรอกใหม่\n",
      "เวลาที่จอดรถ ชม. : 1\n",
      "เวลาที่จอดรถ นาที : 123\n",
      "กรุณากรอกใหม่\n",
      "เวลาที่จอดรถ นาที : 1\n",
      "ค่าจอดรถ :  152\n"
     ]
    }
   ],
   "source": [
    "while True:\n",
    "    hr = int(input(\"เวลาที่จอดรถ ชม. : \"))\n",
    "    if 0<= hr <= 60:\n",
    "        break\n",
    "    else:\n",
    "        print(\"กรุณากรอกใหม่\")\n",
    "        \n",
    "while True:\n",
    "    mins = int(input(\"เวลาที่จอดรถ นาที : \"))\n",
    "    if 0<= mins <= 60:\n",
    "        break\n",
    "    else:\n",
    "        print(\"กรุณากรอกใหม่\")\n",
    "        \n",
    "print(\"ค่าจอดรถ : \", (hr*150)+(mins*2))"
   ]
  }
 ],
 "metadata": {
  "kernelspec": {
   "display_name": "Python 3",
   "language": "python",
   "name": "python3"
  },
  "language_info": {
   "codemirror_mode": {
    "name": "ipython",
    "version": 3
   },
   "file_extension": ".py",
   "mimetype": "text/x-python",
   "name": "python",
   "nbconvert_exporter": "python",
   "pygments_lexer": "ipython3",
   "version": "3.7.4"
  }
 },
 "nbformat": 4,
 "nbformat_minor": 2
}
