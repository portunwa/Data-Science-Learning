{
 "cells": [
  {
   "cell_type": "code",
   "execution_count": 4,
   "metadata": {},
   "outputs": [
    {
     "name": "stdout",
     "output_type": "stream",
     "text": [
      "กรอกข้อความ 1 : I am the longest\n",
      "กรอกข้อความ 2 : I am the\n",
      "กรอกข้อความ 3 : I am\n",
      "กรอกข้อความ 4 : I\n",
      "I\n",
      "I am\n",
      "I am the\n",
      "I am the longest\n"
     ]
    }
   ],
   "source": [
    "a = input(\"กรอกข้อความ 1 : \")\n",
    "b = input(\"กรอกข้อความ 2 : \")\n",
    "c = input(\"กรอกข้อความ 3 : \")\n",
    "d = input(\"กรอกข้อความ 4 : \")\n",
    "lst = [a,b,c,d]\n",
    "result = sorted(lst, key=len)\n",
    "for i in result:\n",
    "    print(i)\n",
    "    "
   ]
  }
 ],
 "metadata": {
  "kernelspec": {
   "display_name": "Python 3",
   "language": "python",
   "name": "python3"
  },
  "language_info": {
   "codemirror_mode": {
    "name": "ipython",
    "version": 3
   },
   "file_extension": ".py",
   "mimetype": "text/x-python",
   "name": "python",
   "nbconvert_exporter": "python",
   "pygments_lexer": "ipython3",
   "version": "3.7.4"
  }
 },
 "nbformat": 4,
 "nbformat_minor": 2
}
