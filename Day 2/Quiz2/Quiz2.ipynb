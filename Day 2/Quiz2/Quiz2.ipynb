{
 "cells": [
  {
   "cell_type": "code",
   "execution_count": 11,
   "metadata": {},
   "outputs": [
    {
     "name": "stdout",
     "output_type": "stream",
     "text": [
      "กรอกตัวเลข 1 : 2\n",
      "กรอกตัวเลข 2 : 0\n",
      "กรุณากรอกตัวเลข 2 ใหม่\n",
      "กรอกตัวเลข 2 : 0\n",
      "กรุณากรอกตัวเลข 2 ใหม่\n",
      "กรอกตัวเลข 2 : 0\n",
      "กรุณากรอกตัวเลข 2 ใหม่\n",
      "กรอกตัวเลข 2 : 2\n",
      "1.0\n"
     ]
    }
   ],
   "source": [
    "num1 = float(input(\"กรอกตัวเลข 1 : \"))\n",
    "while True :\n",
    "    num2 = float(input(\"กรอกตัวเลข 2 : \"))\n",
    "    if num2 != 0:\n",
    "        break\n",
    "    print(\"กรุณากรอกตัวเลข 2 ใหม่\")\n",
    "\n",
    "print( num1 / num2 )"
   ]
  }
 ],
 "metadata": {
  "kernelspec": {
   "display_name": "Python 3",
   "language": "python",
   "name": "python3"
  },
  "language_info": {
   "codemirror_mode": {
    "name": "ipython",
    "version": 3
   },
   "file_extension": ".py",
   "mimetype": "text/x-python",
   "name": "python",
   "nbconvert_exporter": "python",
   "pygments_lexer": "ipython3",
   "version": "3.7.4"
  }
 },
 "nbformat": 4,
 "nbformat_minor": 2
}
