{
 "cells": [
  {
   "cell_type": "code",
   "execution_count": 7,
   "metadata": {},
   "outputs": [
    {
     "name": "stdout",
     "output_type": "stream",
     "text": [
      "กรุณากรอกตัวเลข : 7\n",
      "หาร 7 ลงตัว\n"
     ]
    }
   ],
   "source": [
    "num = int(input(\"กรุณากรอกตัวเลข : \"))\n",
    "if num%7 == 0:\n",
    "    print(\"หาร 7 ลงตัว\")\n",
    "else:\n",
    "    print(\"หาร 7 ไม่ลงตัว\")"
   ]
  }
 ],
 "metadata": {
  "kernelspec": {
   "display_name": "Python 3",
   "language": "python",
   "name": "python3"
  },
  "language_info": {
   "codemirror_mode": {
    "name": "ipython",
    "version": 3
   },
   "file_extension": ".py",
   "mimetype": "text/x-python",
   "name": "python",
   "nbconvert_exporter": "python",
   "pygments_lexer": "ipython3",
   "version": "3.7.4"
  }
 },
 "nbformat": 4,
 "nbformat_minor": 2
}
