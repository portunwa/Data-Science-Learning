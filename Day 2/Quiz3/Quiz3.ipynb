{
 "cells": [
  {
   "cell_type": "code",
   "execution_count": 6,
   "metadata": {},
   "outputs": [
    {
     "name": "stdout",
     "output_type": "stream",
     "text": [
      "กรุณาใส่ตัวเลข ใส่ 0 เพื่อคำนวณ : 5\n",
      "กรุณาใส่ตัวเลข ใส่ 0 เพื่อคำนวณ : 5\n",
      "กรุณาใส่ตัวเลข ใส่ 0 เพื่อคำนวณ : 5\n",
      "กรุณาใส่ตัวเลข ใส่ 0 เพื่อคำนวณ : 5\n",
      "กรุณาใส่ตัวเลข ใส่ 0 เพื่อคำนวณ : 5\n",
      "กรุณาใส่ตัวเลข ใส่ 0 เพื่อคำนวณ : 5\n",
      "กรุณาใส่ตัวเลข ใส่ 0 เพื่อคำนวณ : 5\n",
      "กรุณาใส่ตัวเลข ใส่ 0 เพื่อคำนวณ : 5\n",
      "กรุณาใส่ตัวเลข ใส่ 0 เพื่อคำนวณ : 5\n",
      "กรุณาใส่ตัวเลข ใส่ 0 เพื่อคำนวณ : 5\n",
      "กรุณาใส่ตัวเลข ใส่ 0 เพื่อคำนวณ : 0\n",
      "ผลเฉลี่ย =  5.0\n"
     ]
    }
   ],
   "source": [
    "count = 0\n",
    "total = 0\n",
    "avg = 0\n",
    "while True:\n",
    "    num = int(input(\"กรุณาใส่ตัวเลข ใส่ 0 เพื่อคำนวณ : \"))\n",
    "    if num == 0:\n",
    "        break\n",
    "    count += 1\n",
    "    total = total + num\n",
    "    avg = total / count\n",
    "print(\"ผลเฉลี่ย = \", avg)"
   ]
  }
 ],
 "metadata": {
  "kernelspec": {
   "display_name": "Python 3",
   "language": "python",
   "name": "python3"
  },
  "language_info": {
   "codemirror_mode": {
    "name": "ipython",
    "version": 3
   },
   "file_extension": ".py",
   "mimetype": "text/x-python",
   "name": "python",
   "nbconvert_exporter": "python",
   "pygments_lexer": "ipython3",
   "version": "3.7.4"
  }
 },
 "nbformat": 4,
 "nbformat_minor": 2
}
