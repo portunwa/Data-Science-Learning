{
 "cells": [
  {
   "cell_type": "code",
   "execution_count": 7,
   "metadata": {},
   "outputs": [
    {
     "name": "stdout",
     "output_type": "stream",
     "text": [
      "ผลรวมจำนวนขาของสัตว์ : 18\n",
      "ผลรวมจำนวนหัวของสัตว์ : 5\n",
      "ต้องจ่ายภาษีวัว 4 ตัว เป็นจำนวน 880 บาท\n",
      "ต้องจ่ายภาษีนก 1 ตัว เป็นจำนวน 150 บาท\n"
     ]
    }
   ],
   "source": [
    "while True:\n",
    "    in2 = int(input(\"ผลรวมจำนวนขาของสัตว์ : \" ))\n",
    "    if in2 % 2 == 1 :\n",
    "        print(\"กรุณากรอกตามความเป็นจริง\")\n",
    "    else:\n",
    "        break\n",
    "    \n",
    "num4 = ( in2 // 4 )\n",
    "num2 = ( in2 - (num4 * 4)) // 2\n",
    "\n",
    "while True:\n",
    "    in1 = int(input(\"ผลรวมจำนวนหัวของสัตว์ : \" ))\n",
    "    if in1 != num4 + num2:\n",
    "        print(\"กรุณากรอกจำนวนหัวให้ถูกต้อง\")\n",
    "    else:\n",
    "        break\n",
    "        \n",
    "print(\"ต้องจ่ายภาษีวัว {} ตัว เป็นจำนวน {} บาท\".format(num4,num4 * 220))\n",
    "print(\"ต้องจ่ายภาษีนก {} ตัว เป็นจำนวน {} บาท\".format(num2,num2 * 150))\n",
    "    \n",
    "#โปรแกรมนี้จะคิดจำนวนขาของวัวเป็นหลักก่อน\n",
    "#ex วัว 4 นก 1"
   ]
  }
 ],
 "metadata": {
  "kernelspec": {
   "display_name": "Python 3",
   "language": "python",
   "name": "python3"
  },
  "language_info": {
   "codemirror_mode": {
    "name": "ipython",
    "version": 3
   },
   "file_extension": ".py",
   "mimetype": "text/x-python",
   "name": "python",
   "nbconvert_exporter": "python",
   "pygments_lexer": "ipython3",
   "version": "3.7.4"
  }
 },
 "nbformat": 4,
 "nbformat_minor": 2
}
