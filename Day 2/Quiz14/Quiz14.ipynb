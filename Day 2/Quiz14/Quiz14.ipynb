{
 "cells": [
  {
   "cell_type": "code",
   "execution_count": 6,
   "metadata": {},
   "outputs": [
    {
     "name": "stdout",
     "output_type": "stream",
     "text": [
      "เวลาที่จอดรถ ชม. : 3\n",
      "เวลาที่จอดรถ นาที : 16\n",
      "ค่าจอดรถ :  900\n"
     ]
    }
   ],
   "source": [
    "while True:\n",
    "    hr = int(input(\"เวลาที่จอดรถ ชม. : \"))\n",
    "    if 0<= hr <= 60:\n",
    "        break\n",
    "    else:\n",
    "        print(\"กรุณากรอกใหม่\")\n",
    "        \n",
    "hr -= 1\n",
    "        \n",
    "while True:\n",
    "    mins = int(input(\"เวลาที่จอดรถ นาที : \"))\n",
    "    if 0<= mins <= 60:\n",
    "        break\n",
    "    else:\n",
    "        print(\"กรุณากรอกใหม่\")\n",
    "    \n",
    "if mins > 15:\n",
    "    hr += 1\n",
    "        \n",
    "print(\"ค่าจอดรถ : \", (hr*300))"
   ]
  }
 ],
 "metadata": {
  "kernelspec": {
   "display_name": "Python 3",
   "language": "python",
   "name": "python3"
  },
  "language_info": {
   "codemirror_mode": {
    "name": "ipython",
    "version": 3
   },
   "file_extension": ".py",
   "mimetype": "text/x-python",
   "name": "python",
   "nbconvert_exporter": "python",
   "pygments_lexer": "ipython3",
   "version": "3.7.4"
  }
 },
 "nbformat": 4,
 "nbformat_minor": 2
}
