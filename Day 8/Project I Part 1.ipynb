{
 "cells": [
  {
   "cell_type": "markdown",
   "metadata": {},
   "source": [
    "# PROJECT I Part 1"
   ]
  },
  {
   "cell_type": "markdown",
   "metadata": {},
   "source": [
    "จงเขียนโปรแกรมรับค่า Input จากผู้ใช้ ถ้าผู้ใช้ใส่ 0.0 จึง\n",
    "จะสิ้นสุดโปรแกรม คำนวณหาค่าเฉลี่ยของเลขทั้งหมดที่ผู้ใช้\n",
    "ใส่ และปริ้นค่าเฉลี่ยคูณด้วยจำนวนครั้งที่ใส่ทั้งหมด"
   ]
  },
  {
   "cell_type": "code",
   "execution_count": 9,
   "metadata": {},
   "outputs": [
    {
     "name": "stdout",
     "output_type": "stream",
     "text": [
      "กรุณากรอกตัวเลข : 2\n",
      "กรุณากรอกตัวเลข : 3\n",
      "กรุณากรอกตัวเลข : 4\n",
      "กรุณากรอกตัวเลข : 5\n",
      "กรุณากรอกตัวเลข : 6\n",
      "กรุณากรอกตัวเลข : 0\n",
      "ค่าเฉลี่ยของเลขทั้งหมด  :  4.0\n",
      "ค่าเฉลี่ยคูณด้วยจำนวนครั้ง  :  20.0\n"
     ]
    }
   ],
   "source": [
    "count = 0\n",
    "nsum = 0\n",
    "avg = 0\n",
    "while True:\n",
    "    num = float(input('กรุณากรอกตัวเลข : '))\n",
    "    if num == 0:\n",
    "        break\n",
    "    count = count + 1\n",
    "    nsum = nsum + num\n",
    "    \n",
    "avg = nsum / count   \n",
    "print('ค่าเฉลี่ยของเลขทั้งหมด  :  {}'.format(avg))\n",
    "print('ค่าเฉลี่ยคูณด้วยจำนวนครั้ง  :  {}'.format(avg * count))"
   ]
  },
  {
   "cell_type": "markdown",
   "metadata": {},
   "source": [
    "จงเขียนโปรแกรมให้ผู้ใช้ใส่เลข ขอบเขตล่าง และ ขอบเขต\n",
    "บน และคำนวณหาเลขจำนวนเฉพาะ (Prime Number) ที่อยู่\n",
    "ระหว่างขอบเขตล่างและขอบเขตบน"
   ]
  },
  {
   "cell_type": "code",
   "execution_count": 18,
   "metadata": {},
   "outputs": [
    {
     "name": "stdout",
     "output_type": "stream",
     "text": [
      "กรุณาใส่ขอบเขตล่าง : 2\n",
      "กรุณาใส่ขอบเขตบน : 100\n",
      "2\n",
      "3\n",
      "5\n",
      "7\n",
      "11\n",
      "13\n",
      "17\n",
      "19\n",
      "23\n",
      "29\n",
      "31\n",
      "37\n",
      "41\n",
      "43\n",
      "47\n",
      "53\n",
      "59\n",
      "61\n",
      "67\n",
      "71\n",
      "73\n",
      "79\n",
      "83\n",
      "89\n",
      "97\n"
     ]
    }
   ],
   "source": [
    "lower = int(input('กรุณาใส่ขอบเขตล่าง : '))\n",
    "upper = int(input('กรุณาใส่ขอบเขตบน : '))\n",
    "for num in range(lower, upper + 1):\n",
    "    if num > 1:\n",
    "        for i in range(2, num):\n",
    "            if ( num % i ) == 0:\n",
    "                break\n",
    "        else:\n",
    "            print(num)\n"
   ]
  }
 ],
 "metadata": {
  "kernelspec": {
   "display_name": "Python 3",
   "language": "python",
   "name": "python3"
  },
  "language_info": {
   "codemirror_mode": {
    "name": "ipython",
    "version": 3
   },
   "file_extension": ".py",
   "mimetype": "text/x-python",
   "name": "python",
   "nbconvert_exporter": "python",
   "pygments_lexer": "ipython3",
   "version": "3.7.4"
  }
 },
 "nbformat": 4,
 "nbformat_minor": 2
}
