{
 "cells": [
  {
   "cell_type": "markdown",
   "metadata": {},
   "source": [
    "# QUIZ"
   ]
  },
  {
   "cell_type": "markdown",
   "metadata": {},
   "source": [
    "11. จงเขียนฟังก์ชั่น random ตัวเลขแบบ float ในช่วง 0-1 ขึ้นมา 1 ตัว"
   ]
  },
  {
   "cell_type": "code",
   "execution_count": 2,
   "metadata": {},
   "outputs": [
    {
     "name": "stdout",
     "output_type": "stream",
     "text": [
      "[0.68894744]\n"
     ]
    }
   ],
   "source": [
    "import numpy as np\n",
    "ans11 = np.random.rand(1)\n",
    "print(ans11)"
   ]
  },
  {
   "cell_type": "markdown",
   "metadata": {},
   "source": [
    "12. จงเขียนฟังก์ชั่นที่ random ตัวเลขแบบ int ในช่วง 50-100 โดยให้อยู่ในรูป Matrix 4x4 และ Transpose"
   ]
  },
  {
   "cell_type": "code",
   "execution_count": 3,
   "metadata": {},
   "outputs": [
    {
     "name": "stdout",
     "output_type": "stream",
     "text": [
      "[[87 81 51 87]\n",
      " [56 84 83 95]\n",
      " [95 70 58 66]\n",
      " [57 83 72 52]]\n",
      "[[87 56 95 57]\n",
      " [81 84 70 83]\n",
      " [51 83 58 72]\n",
      " [87 95 66 52]]\n"
     ]
    }
   ],
   "source": [
    "import numpy as np\n",
    "ans12 = np.random.randint(50,101,(4,4))\n",
    "print(ans12)\n",
    "print(ans12.T)"
   ]
  },
  {
   "cell_type": "markdown",
   "metadata": {},
   "source": [
    "13. ให้ array ที่กำหนด จงเขียนโค้ดที่เลือกเฉพาะ 8,9,13,14"
   ]
  },
  {
   "cell_type": "code",
   "execution_count": 9,
   "metadata": {},
   "outputs": [
    {
     "name": "stdout",
     "output_type": "stream",
     "text": [
      "[[ 8  9]\n",
      " [13 14]]\n"
     ]
    }
   ],
   "source": [
    "import numpy as np\n",
    "sol = np.array([[1,2,3,4,5],[6,7,8,9,10],[11,12,13,14,15],[16,17,18,19,20],[21,22,23,24,25]])\n",
    "ans13 = sol[1:3,2:4]\n",
    "print(ans13)"
   ]
  },
  {
   "cell_type": "markdown",
   "metadata": {},
   "source": [
    "14. ให้ array ที่กำหนด จงเขียนโค้ดที่เลือกเฉพาะ 18,19,20"
   ]
  },
  {
   "cell_type": "code",
   "execution_count": 10,
   "metadata": {},
   "outputs": [
    {
     "name": "stdout",
     "output_type": "stream",
     "text": [
      "[18 19 20]\n"
     ]
    }
   ],
   "source": [
    "import numpy as np\n",
    "sol = np.array([[1,2,3,4,5],[6,7,8,9,10],[11,12,13,14,15],[16,17,18,19,20],[21,22,23,24,25]])\n",
    "ans14 = sol[3,2:]\n",
    "print(ans14)"
   ]
  },
  {
   "cell_type": "markdown",
   "metadata": {},
   "source": [
    "15. ให้ array ที่กำหนด จงเขียนโค้ดที่เลือกเฉพาะ 16,17,21,22"
   ]
  },
  {
   "cell_type": "code",
   "execution_count": 11,
   "metadata": {},
   "outputs": [
    {
     "name": "stdout",
     "output_type": "stream",
     "text": [
      "[[16 17]\n",
      " [21 22]]\n"
     ]
    }
   ],
   "source": [
    "import numpy as np\n",
    "sol = np.array([[1,2,3,4,5],[6,7,8,9,10],[11,12,13,14,15],[16,17,18,19,20],[21,22,23,24,25]])\n",
    "ans15 = sol[3:,:2]\n",
    "print(ans15)"
   ]
  },
  {
   "cell_type": "markdown",
   "metadata": {},
   "source": [
    "16. ให้ array ที่กำหนด จงเขียนโค้ดที่เลือกทั้งแถว 3"
   ]
  },
  {
   "cell_type": "code",
   "execution_count": 13,
   "metadata": {},
   "outputs": [
    {
     "name": "stdout",
     "output_type": "stream",
     "text": [
      "[[ 1  2  3  4  5]\n",
      " [ 6  7  8  9 10]\n",
      " [11 12 13 14 15]]\n"
     ]
    }
   ],
   "source": [
    "import numpy as np\n",
    "sol = np.array([[1,2,3,4,5],[6,7,8,9,10],[11,12,13,14,15],[16,17,18,19,20],[21,22,23,24,25]])\n",
    "ans16 = sol[:3]\n",
    "print(ans16)"
   ]
  },
  {
   "cell_type": "markdown",
   "metadata": {},
   "source": [
    "17. จงเขียนโค้ดที่ทำให้ได้ array นี้ออกมา"
   ]
  },
  {
   "cell_type": "code",
   "execution_count": 19,
   "metadata": {},
   "outputs": [
    {
     "name": "stdout",
     "output_type": "stream",
     "text": [
      "[[ 1  2  3  4  5]\n",
      " [ 6  7  8  9 10]\n",
      " [11 12 13 14 15]\n",
      " [16 17 18 19 20]\n",
      " [21 22 23 24 25]]\n"
     ]
    }
   ],
   "source": [
    "import numpy as np\n",
    "ans17 = np.arange(1,26)\n",
    "ans17.shape = (5,5)\n",
    "print(ans17)"
   ]
  },
  {
   "cell_type": "markdown",
   "metadata": {},
   "source": [
    "18. จงเขียนโปรแกรมสุ่มเลขจำนวนเต็มในช่วง 10-100 ออกมาอยู่ใน matrix 5x5 และใช้ If-else เช็คทีละตัวว่าตัวใดบ้างที่มีค่ามากกว่า 50 และปริ้นออกมา"
   ]
  },
  {
   "cell_type": "code",
   "execution_count": 36,
   "metadata": {},
   "outputs": [
    {
     "name": "stdout",
     "output_type": "stream",
     "text": [
      "72\n",
      "60\n",
      "74\n",
      "57\n",
      "51\n",
      "56\n",
      "76\n",
      "100\n",
      "73\n",
      "89\n",
      "96\n",
      "96\n",
      "53\n"
     ]
    }
   ],
   "source": [
    "import numpy as np\n",
    "pro1 = np.random.randint(10,101,(5,5))\n",
    "for i in pro1.tolist():\n",
    "    for j in i:\n",
    "        if j > 50:\n",
    "            print(j)\n"
   ]
  },
  {
   "cell_type": "markdown",
   "metadata": {},
   "source": [
    "19. จงเขียนโปรแกรมสุ่มเลขจำนวนเต็มในช่วง 10-100 ออกมาอยู่ใน matrix 5x5 และใช้ conditional selection เช็คว่าตัวใดบ้างมีค่ามากกว่า 40 นำมาใส่ List ที่สร้างใหม่ และปริ้นออกมา"
   ]
  },
  {
   "cell_type": "code",
   "execution_count": 30,
   "metadata": {},
   "outputs": [
    {
     "name": "stdout",
     "output_type": "stream",
     "text": [
      "[88, 71, 84, 54, 97, 65, 49, 86, 71, 93, 88, 48, 58, 60, 48]\n"
     ]
    }
   ],
   "source": [
    "import numpy as np\n",
    "pro2 = np.random.randint(10,101,(5,5))\n",
    "ans19 = list(pro2[pro2>40])\n",
    "print(ans19)"
   ]
  },
  {
   "cell_type": "markdown",
   "metadata": {},
   "source": [
    "20. เขียนโปรแกรมรับค่าจากผู้ใช้ให้ป้อนเลข 9 ตัว แต่ละตัวต้องไม่ซ้ำกันและมีค่าอยู่ในช่วง 10-100 นำเลข 9 ตัวนั้นมาทำเป็น matrix 3x3 และ transpose และหาเลขอยู่ตำแหน่งที่ (2,2)"
   ]
  },
  {
   "cell_type": "code",
   "execution_count": 35,
   "metadata": {},
   "outputs": [
    {
     "name": "stdout",
     "output_type": "stream",
     "text": [
      "กรุณากรอกตัวเลขที่ไม่ซ้ำกันในช่วง 10 - 100 : 1\n",
      "กรุณากรอกให้อยู่ในช่วง 10-100\n",
      "กรุณากรอกตัวเลขที่ไม่ซ้ำกันในช่วง 10 - 100 : 10\n",
      "กรุณากรอกตัวเลขที่ไม่ซ้ำกันในช่วง 10 - 100 : 10\n",
      "กรุณาอย่ากรอกซ้ำ\n",
      "กรุณากรอกตัวเลขที่ไม่ซ้ำกันในช่วง 10 - 100 : 11\n",
      "กรุณากรอกตัวเลขที่ไม่ซ้ำกันในช่วง 10 - 100 : 12\n",
      "กรุณากรอกตัวเลขที่ไม่ซ้ำกันในช่วง 10 - 100 : 13\n",
      "กรุณากรอกตัวเลขที่ไม่ซ้ำกันในช่วง 10 - 100 : 14\n",
      "กรุณากรอกตัวเลขที่ไม่ซ้ำกันในช่วง 10 - 100 : 1\n",
      "กรุณากรอกให้อยู่ในช่วง 10-100\n",
      "กรุณากรอกตัวเลขที่ไม่ซ้ำกันในช่วง 10 - 100 : 15\n",
      "กรุณากรอกตัวเลขที่ไม่ซ้ำกันในช่วง 10 - 100 : 16\n",
      "กรุณากรอกตัวเลขที่ไม่ซ้ำกันในช่วง 10 - 100 : 17\n",
      "กรุณากรอกตัวเลขที่ไม่ซ้ำกันในช่วง 10 - 100 : 18\n",
      "ตำแหน่งที่ (2,2) คือ :  18\n"
     ]
    }
   ],
   "source": [
    "import numpy as np\n",
    "lst = []\n",
    "for i in range(9):\n",
    "    while True:\n",
    "        ini = int(input('กรุณากรอกตัวเลขที่ไม่ซ้ำกันในช่วง 10 - 100 : '))\n",
    "        if ini not in lst and ini >= 10 and ini <= 100:\n",
    "            lst.append(ini)\n",
    "            break\n",
    "        elif ini in lst:\n",
    "            print('กรุณาอย่ากรอกซ้ำ')\n",
    "        else:\n",
    "            print(\"กรุณากรอกให้อยู่ในช่วง 10-100\")\n",
    "            \n",
    "fin = np.array(lst)\n",
    "fin.shape = (3,3)\n",
    "ans20 =  fin.T\n",
    "print('ตำแหน่งที่ (2,2) คือ : ', ans20[2,2])"
   ]
  }
 ],
 "metadata": {
  "kernelspec": {
   "display_name": "Python 3",
   "language": "python",
   "name": "python3"
  },
  "language_info": {
   "codemirror_mode": {
    "name": "ipython",
    "version": 3
   },
   "file_extension": ".py",
   "mimetype": "text/x-python",
   "name": "python",
   "nbconvert_exporter": "python",
   "pygments_lexer": "ipython3",
   "version": "3.7.4"
  }
 },
 "nbformat": 4,
 "nbformat_minor": 2
}
