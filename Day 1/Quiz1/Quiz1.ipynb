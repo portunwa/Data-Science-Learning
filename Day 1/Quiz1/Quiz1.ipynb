{
 "cells": [
  {
   "cell_type": "code",
   "execution_count": 8,
   "metadata": {},
   "outputs": [
    {
     "name": "stdout",
     "output_type": "stream",
     "text": [
      "Answer = 5\n"
     ]
    }
   ],
   "source": [
    "ans1 = 2345%13 #1\n",
    "print('Answer = {}'.format(ans1))"
   ]
  },
  {
   "cell_type": "code",
   "execution_count": 9,
   "metadata": {},
   "outputs": [
    {
     "name": "stdout",
     "output_type": "stream",
     "text": [
      "Answer = 92\n"
     ]
    }
   ],
   "source": [
    "ans2 = 1567//17 #2\n",
    "print('Answer = {}'.format(ans2))"
   ]
  },
  {
   "cell_type": "code",
   "execution_count": 13,
   "metadata": {},
   "outputs": [
    {
     "name": "stdout",
     "output_type": "stream",
     "text": [
      "False\n"
     ]
    }
   ],
   "source": [
    "FirstName = 1 #3\n",
    "Firstname = 2\n",
    "print(FirstName == Firstname) #เป็นคนละตัวแปร"
   ]
  },
  {
   "cell_type": "code",
   "execution_count": 14,
   "metadata": {},
   "outputs": [
    {
     "ename": "SyntaxError",
     "evalue": "invalid syntax (<ipython-input-14-240f9322834d>, line 1)",
     "output_type": "error",
     "traceback": [
      "\u001b[1;36m  File \u001b[1;32m\"<ipython-input-14-240f9322834d>\"\u001b[1;36m, line \u001b[1;32m1\u001b[0m\n\u001b[1;33m    13Friday = 1\u001b[0m\n\u001b[1;37m           ^\u001b[0m\n\u001b[1;31mSyntaxError\u001b[0m\u001b[1;31m:\u001b[0m invalid syntax\n"
     ]
    }
   ],
   "source": [
    "13Friday = 1 #4\n",
    "print(13Friday) #ไม่เป็นตัวแปรที่ถูกต้อง"
   ]
  },
  {
   "cell_type": "code",
   "execution_count": 15,
   "metadata": {},
   "outputs": [
    {
     "name": "stdout",
     "output_type": "stream",
     "text": [
      "Answer 1 = 5\n",
      "Answer 2 = 92\n"
     ]
    }
   ],
   "source": [
    "print('Answer 1 = {}'.format(ans1))\n",
    "print('Answer 2 = {}'.format(ans2))"
   ]
  }
 ],
 "metadata": {
  "kernelspec": {
   "display_name": "Python 3",
   "language": "python",
   "name": "python3"
  },
  "language_info": {
   "codemirror_mode": {
    "name": "ipython",
    "version": 3
   },
   "file_extension": ".py",
   "mimetype": "text/x-python",
   "name": "python",
   "nbconvert_exporter": "python",
   "pygments_lexer": "ipython3",
   "version": "3.7.4"
  }
 },
 "nbformat": 4,
 "nbformat_minor": 2
}
