{
 "cells": [
  {
   "cell_type": "code",
   "execution_count": 11,
   "metadata": {},
   "outputs": [
    {
     "name": "stdout",
     "output_type": "stream",
     "text": [
      "Please input your score (Integer) = 100\n",
      "Grade : A\n"
     ]
    }
   ],
   "source": [
    "score = int(input(\"Please input your score (Integer) = \"))\n",
    "if score >= 80:\n",
    "    print(\"Grade : A\")\n",
    "elif 80 > score >= 70:\n",
    "    print(\"Grade : B\")\n",
    "elif 70 > score >= 60:\n",
    "    print(\"Grade : C\")\n",
    "elif 60 > score >= 50:\n",
    "    print(\"Grade : D\")\n",
    "else:\n",
    "    print(\"Grade : F\")"
   ]
  }
 ],
 "metadata": {
  "kernelspec": {
   "display_name": "Python 3",
   "language": "python",
   "name": "python3"
  },
  "language_info": {
   "codemirror_mode": {
    "name": "ipython",
    "version": 3
   },
   "file_extension": ".py",
   "mimetype": "text/x-python",
   "name": "python",
   "nbconvert_exporter": "python",
   "pygments_lexer": "ipython3",
   "version": "3.7.4"
  }
 },
 "nbformat": 4,
 "nbformat_minor": 2
}
