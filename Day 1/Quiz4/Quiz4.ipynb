{
 "cells": [
  {
   "cell_type": "code",
   "execution_count": 1,
   "metadata": {},
   "outputs": [
    {
     "data": {
      "text/plain": [
       "6"
      ]
     },
     "execution_count": 1,
     "metadata": {},
     "output_type": "execute_result"
    }
   ],
   "source": [
    "a = [[[1,3],[3,4]],[5,[5,6],[7,8]]]\n",
    "a[1][1][1]"
   ]
  },
  {
   "cell_type": "code",
   "execution_count": 2,
   "metadata": {},
   "outputs": [
    {
     "data": {
      "text/plain": [
       "[['Aname', 'Asurname', 18, 177, 60],\n",
       " ['Bname', 'Bsurname', 18, 177, 60],\n",
       " ['Cname', 'Csurname', 18, 177, 60],\n",
       " ['Dname', 'Dsurname', 18, 177, 60]]"
      ]
     },
     "execution_count": 2,
     "metadata": {},
     "output_type": "execute_result"
    }
   ],
   "source": [
    "name1 = ['Aname','Asurname',18,177,60]\n",
    "name2 = ['Bname','Bsurname',18,177,60]\n",
    "name3 = ['Cname','Csurname',18,177,60]\n",
    "name4 = ['Dname','Dsurname',18,177,60]\n",
    "name =[name1,name2,name3,name4]\n",
    "name"
   ]
  },
  {
   "cell_type": "code",
   "execution_count": 3,
   "metadata": {},
   "outputs": [
    {
     "data": {
      "text/plain": [
       "[['Aname', 'Asurname', 18, 177, 60],\n",
       " ['Bname', 'Bsurname', 18, 177, 60],\n",
       " ['Cname', 'Csurname', 18, 177, 60]]"
      ]
     },
     "execution_count": 3,
     "metadata": {},
     "output_type": "execute_result"
    }
   ],
   "source": [
    "del name[3]\n",
    "name"
   ]
  },
  {
   "cell_type": "code",
   "execution_count": 4,
   "metadata": {},
   "outputs": [
    {
     "data": {
      "text/plain": [
       "[['Ename', 'Esurname', 18, 177, 60],\n",
       " ['Aname', 'Asurname', 18, 177, 60],\n",
       " ['Bname', 'Bsurname', 18, 177, 60],\n",
       " ['Cname', 'Csurname', 18, 177, 60]]"
      ]
     },
     "execution_count": 4,
     "metadata": {},
     "output_type": "execute_result"
    }
   ],
   "source": [
    "name.insert(0, ['Ename','Esurname',18,177,60])\n",
    "name"
   ]
  },
  {
   "cell_type": "code",
   "execution_count": 5,
   "metadata": {},
   "outputs": [
    {
     "data": {
      "text/plain": [
       "[['Ename', 'Esurname', 18, 177, 60],\n",
       " ['Aname', 'Asurname', 18, 177, 70],\n",
       " ['Bname', 'Bsurname', 18, 177, 60],\n",
       " ['Cname', 'Csurname', 18, 177, 60]]"
      ]
     },
     "execution_count": 5,
     "metadata": {},
     "output_type": "execute_result"
    }
   ],
   "source": [
    "#คนที่สองคือ index1\n",
    "name[1][4] = name[1][4] +10\n",
    "name"
   ]
  }
 ],
 "metadata": {
  "kernelspec": {
   "display_name": "Python 3",
   "language": "python",
   "name": "python3"
  },
  "language_info": {
   "codemirror_mode": {
    "name": "ipython",
    "version": 3
   },
   "file_extension": ".py",
   "mimetype": "text/x-python",
   "name": "python",
   "nbconvert_exporter": "python",
   "pygments_lexer": "ipython3",
   "version": "3.7.4"
  }
 },
 "nbformat": 4,
 "nbformat_minor": 2
}
